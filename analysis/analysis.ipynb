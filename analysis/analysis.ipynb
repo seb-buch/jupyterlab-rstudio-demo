{
 "cells": [
  {
   "cell_type": "markdown",
   "id": "749ce1d6-aec2-4c4b-8977-433914a421cf",
   "metadata": {},
   "source": [
    "# Demo Notebook\n",
    "\n",
    "Ceci est une démo d'un notebook Jupyter qui facilite la documentation du code en permettant, par exemple, d'insérer des cellules de texte formatté.\n",
    "\n",
    "## Chargement des dépendances"
   ]
  },
  {
   "cell_type": "code",
   "execution_count": null,
   "id": "d0e5fa13-a49d-4867-a714-4633caa71f3a",
   "metadata": {},
   "outputs": [],
   "source": [
    "library(readr)\n",
    "# Installer ggplot2 si ce n'est pas déjà fait\n",
    "if (!require(ggplot2)) {\n",
    "  install.packages(\"ggplot2\")\n",
    "}\n",
    "library(ggplot2)\n",
    "library(dplyr)"
   ]
  },
  {
   "cell_type": "markdown",
   "id": "ba4ee25c-f642-4e77-ad2b-8d169a485a60",
   "metadata": {},
   "source": [
    "## Chargement des données\n",
    "\n",
    "On utilise la bibliothèques [readr](https://readr.tidyverse.org/) pour charger le fichier CSV qui contient des données de patients testés lors du début de l'épidémie de COVID en 2020.\n",
    "\n",
    "Note: Ces données sont disponibles [ici](https://github.com/higgi13425/medicaldata)."
   ]
  },
  {
   "cell_type": "code",
   "execution_count": null,
   "id": "10a32ed3-ba72-4b57-a32d-81bd98412b26",
   "metadata": {},
   "outputs": [],
   "source": [
    "df <- read_csv('../data/covid_testing.csv')"
   ]
  },
  {
   "cell_type": "markdown",
   "id": "8ebfc616-e1a6-45bd-aaf5-7214adf111c0",
   "metadata": {},
   "source": [
    "## Quelques exemples d'instructions basiques\n",
    "\n",
    "Afficher les premières lignes d'un `dataframe`:"
   ]
  },
  {
   "cell_type": "code",
   "execution_count": null,
   "id": "f8b786c9-bb5c-455f-82ea-72ec80617283",
   "metadata": {},
   "outputs": [],
   "source": [
    "head(df)"
   ]
  },
  {
   "cell_type": "markdown",
   "id": "a9c57d81-959d-4daa-8d77-6d45e3a06b70",
   "metadata": {},
   "source": [
    "Afficher des informations sur le `dataframe`:"
   ]
  },
  {
   "cell_type": "code",
   "execution_count": null,
   "id": "328fd3d0-52fd-4ba9-80e4-7ebf50b554ef",
   "metadata": {},
   "outputs": [],
   "source": [
    "str(df)"
   ]
  },
  {
   "cell_type": "markdown",
   "id": "e8489f8d-5fb2-4521-a40a-9eae1f596b04",
   "metadata": {},
   "source": [
    "Afficher les noms des colonnes:"
   ]
  },
  {
   "cell_type": "code",
   "execution_count": null,
   "id": "d908e053-1f16-4e1a-bd2c-4fea98ca6023",
   "metadata": {},
   "outputs": [],
   "source": [
    "colnames(df)"
   ]
  },
  {
   "cell_type": "markdown",
   "id": "5729d881-4609-4823-98d2-f9a409990880",
   "metadata": {},
   "source": [
    "Extraire, formatter et afficher des valeurs:"
   ]
  },
  {
   "cell_type": "code",
   "execution_count": null,
   "id": "f7c57045-7eb2-4c84-b998-0d70399923f6",
   "metadata": {},
   "outputs": [],
   "source": [
    "nom_colonne <- colnames(df)[1]\n",
    "valeur <- df[1, 1]\n",
    "\n",
    "message <- sprintf(\"La première valeur de la colonne '%s' est %s.\", nom_colonne, valeur)\n",
    "\n",
    "print(message)"
   ]
  },
  {
   "cell_type": "markdown",
   "id": "f77f5ef1-f1ee-43ec-878d-8363745e2f8a",
   "metadata": {},
   "source": [
    "## Exemples de traitement\n",
    "\n",
    "### Créer un histogramme\n",
    "\n",
    "Ici on utilise la fonction native `hist` pour générer un histogramme avec l'age des patients:"
   ]
  },
  {
   "cell_type": "code",
   "execution_count": null,
   "id": "ce9dd2e1-02c3-4bf8-b3d6-4751213320c0",
   "metadata": {},
   "outputs": [],
   "source": [
    "hist(df$age, main=\"Age du patient testé\", xlab=\"Age (années)\", ylab=\"Occurrence\", col=\"blue\", border=\"black\")"
   ]
  },
  {
   "cell_type": "markdown",
   "id": "e35c0bd5-4f73-4146-a7e9-141ce8ef399c",
   "metadata": {},
   "source": [
    "On peut aussi extraire des données statistiques basiques avec `summary`:"
   ]
  },
  {
   "cell_type": "code",
   "execution_count": null,
   "id": "cde2a7a0-a0bc-484e-b9ad-0fa9df8f157b",
   "metadata": {},
   "outputs": [],
   "source": [
    "print(summary(df$age))"
   ]
  },
  {
   "cell_type": "markdown",
   "id": "84880fd3-e147-4b26-bcf7-849875141e7f",
   "metadata": {},
   "source": [
    "### Traitement de données et génération d'un graphique associé\n",
    "\n",
    "On peut utiliser la bibliothèque [dplyr](https://dplyr.tidyverse.org/) qui permet de faciliter le traitement des données.\n",
    "\n",
    "Ici, on va tracer le nombre de tests effectués par jour en fonction du jour.\n",
    "\n",
    "On commence par compter le nombre d'occurences de chacunes des valeurs dans la colonne `pan_day`:"
   ]
  },
  {
   "cell_type": "code",
   "execution_count": null,
   "id": "e8acb1ed-8e68-4e0b-ba30-5fac665fb6e8",
   "metadata": {},
   "outputs": [],
   "source": [
    "ntests_per_day_df <- df %>%\n",
    "  group_by(pan_day) %>%\n",
    "  summarise(count = n()) %>%\n",
    "  ungroup()"
   ]
  },
  {
   "cell_type": "markdown",
   "id": "46e51013-ff52-4487-ad24-bf342fcb3319",
   "metadata": {},
   "source": [
    "Puis, on utilise la bibliothèque [ggplot2](https://ggplot2.tidyverse.org/) pour tracer un graphique type \"nuage de points\":"
   ]
  },
  {
   "cell_type": "code",
   "execution_count": null,
   "id": "ecc920fe-b254-4fea-9a4c-b17e444530bc",
   "metadata": {},
   "outputs": [],
   "source": [
    "p <- ggplot(ntests_per_day_df, aes(x = as.numeric(pan_day), y = count)) +\n",
    "  geom_point() +\n",
    "  labs(title = \"Nombre de par jour depuis le début de la pandémie\",\n",
    "       x = \"Nombre de jours depuis le début de la pandémie (pan_day)\",\n",
    "       y = \"Nombre de tests\") +\n",
    "  scale_x_continuous(breaks = seq(min(ntests_per_day_df$pan_day), max(ntests_per_day_df$pan_day), by = 10)) +\n",
    "  theme_linedraw()\n",
    "print(p)"
   ]
  },
  {
   "cell_type": "markdown",
   "id": "20944fe9-96de-412b-a7e3-c03972e14f59",
   "metadata": {},
   "source": [
    "Fin de la démo"
   ]
  }
 ],
 "metadata": {
  "kernelspec": {
   "display_name": "R",
   "language": "R",
   "name": "ir"
  },
  "language_info": {
   "codemirror_mode": "r",
   "file_extension": ".r",
   "mimetype": "text/x-r-source",
   "name": "R",
   "pygments_lexer": "r",
   "version": "4.1.0"
  }
 },
 "nbformat": 4,
 "nbformat_minor": 5
}
