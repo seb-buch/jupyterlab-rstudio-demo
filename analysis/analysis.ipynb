{
 "cells": [
  {
   "cell_type": "code",
   "execution_count": 1,
   "id": "d0e5fa13-a49d-4867-a714-4633caa71f3a",
   "metadata": {},
   "outputs": [
    {
     "name": "stderr",
     "output_type": "stream",
     "text": [
      "Warning message:\n",
      "“package ‘readr’ was built under R version 4.1.3”\n",
      "Loading required package: ggplot2\n",
      "\n",
      "Warning message:\n",
      "“package ‘ggplot2’ was built under R version 4.1.3”\n",
      "Warning message:\n",
      "“package ‘dplyr’ was built under R version 4.1.3”\n",
      "\n",
      "Attaching package: ‘dplyr’\n",
      "\n",
      "\n",
      "The following objects are masked from ‘package:stats’:\n",
      "\n",
      "    filter, lag\n",
      "\n",
      "\n",
      "The following objects are masked from ‘package:base’:\n",
      "\n",
      "    intersect, setdiff, setequal, union\n",
      "\n",
      "\n"
     ]
    }
   ],
   "source": [
    "# Dépendances\n",
    "library(readr)\n",
    "# Installer ggplot2 si ce n'est pas déjà fait\n",
    "if (!require(ggplot2)) {\n",
    "  install.packages(\"ggplot2\")\n",
    "}\n",
    "# Charger ggplot2\n",
    "library(ggplot2)\n",
    "# Charger dplyr\n",
    "library(dplyr)"
   ]
  },
  {
   "cell_type": "code",
   "execution_count": 3,
   "id": "10a32ed3-ba72-4b57-a32d-81bd98412b26",
   "metadata": {},
   "outputs": [
    {
     "name": "stderr",
     "output_type": "stream",
     "text": [
      "\u001b[1mRows: \u001b[22m\u001b[34m15524\u001b[39m \u001b[1mColumns: \u001b[22m\u001b[34m17\u001b[39m\n",
      "\u001b[36m──\u001b[39m \u001b[1mColumn specification\u001b[22m \u001b[36m────────────────────────────────────────────────────────\u001b[39m\n",
      "\u001b[1mDelimiter:\u001b[22m \",\"\n",
      "\u001b[31mchr\u001b[39m (9): fake_first_name, fake_last_name, gender, test_id, clinic_name, resu...\n",
      "\u001b[32mdbl\u001b[39m (8): subject_id, pan_day, age, drive_thru_ind, ct_result, orderset, col_...\n",
      "\n",
      "\u001b[36mℹ\u001b[39m Use `spec()` to retrieve the full column specification for this data.\n",
      "\u001b[36mℹ\u001b[39m Specify the column types or set `show_col_types = FALSE` to quiet this message.\n"
     ]
    }
   ],
   "source": [
    "# Chargement des données\n",
    "df <- read_csv('./data/covid_testing.csv')"
   ]
  },
  {
   "cell_type": "code",
   "execution_count": 4,
   "id": "265405d2-86ad-4c9e-be65-f529beee3000",
   "metadata": {},
   "outputs": [
    {
     "data": {
      "text/html": [
       "<table class=\"dataframe\">\n",
       "<caption>A tibble: 6 × 17</caption>\n",
       "<thead>\n",
       "\t<tr><th scope=col>subject_id</th><th scope=col>fake_first_name</th><th scope=col>fake_last_name</th><th scope=col>gender</th><th scope=col>pan_day</th><th scope=col>test_id</th><th scope=col>clinic_name</th><th scope=col>result</th><th scope=col>demo_group</th><th scope=col>age</th><th scope=col>drive_thru_ind</th><th scope=col>ct_result</th><th scope=col>orderset</th><th scope=col>payor_group</th><th scope=col>patient_class</th><th scope=col>col_rec_tat</th><th scope=col>rec_ver_tat</th></tr>\n",
       "\t<tr><th scope=col>&lt;dbl&gt;</th><th scope=col>&lt;chr&gt;</th><th scope=col>&lt;chr&gt;</th><th scope=col>&lt;chr&gt;</th><th scope=col>&lt;dbl&gt;</th><th scope=col>&lt;chr&gt;</th><th scope=col>&lt;chr&gt;</th><th scope=col>&lt;chr&gt;</th><th scope=col>&lt;chr&gt;</th><th scope=col>&lt;dbl&gt;</th><th scope=col>&lt;dbl&gt;</th><th scope=col>&lt;dbl&gt;</th><th scope=col>&lt;dbl&gt;</th><th scope=col>&lt;chr&gt;</th><th scope=col>&lt;chr&gt;</th><th scope=col>&lt;dbl&gt;</th><th scope=col>&lt;dbl&gt;</th></tr>\n",
       "</thead>\n",
       "<tbody>\n",
       "\t<tr><td> 1412</td><td>jhezane   </td><td>westerling</td><td>female</td><td>4</td><td>covid</td><td>inpatient ward a </td><td>negative</td><td>patient</td><td>0.0</td><td>0</td><td>45</td><td>0</td><td>government</td><td>inpatient           </td><td>1.4</td><td>5.2</td></tr>\n",
       "\t<tr><td>  533</td><td>penny     </td><td>targaryen </td><td>female</td><td>7</td><td>covid</td><td>clinical lab     </td><td>negative</td><td>patient</td><td>0.0</td><td>1</td><td>45</td><td>0</td><td>commercial</td><td>not applicable      </td><td>2.3</td><td>5.8</td></tr>\n",
       "\t<tr><td> 9134</td><td>grunt     </td><td>rivers    </td><td>male  </td><td>7</td><td>covid</td><td>clinical lab     </td><td>negative</td><td>patient</td><td>0.8</td><td>1</td><td>45</td><td>1</td><td>NA        </td><td>NA                  </td><td>7.3</td><td>4.7</td></tr>\n",
       "\t<tr><td> 8518</td><td>melisandre</td><td>swyft     </td><td>female</td><td>8</td><td>covid</td><td>clinical lab     </td><td>negative</td><td>patient</td><td>0.8</td><td>1</td><td>45</td><td>1</td><td>NA        </td><td>NA                  </td><td>5.8</td><td>5.0</td></tr>\n",
       "\t<tr><td> 8967</td><td>rolley    </td><td>karstark  </td><td>male  </td><td>8</td><td>covid</td><td>emergency dept   </td><td>negative</td><td>patient</td><td>0.8</td><td>0</td><td>45</td><td>1</td><td>government</td><td>emergency           </td><td>1.2</td><td>6.4</td></tr>\n",
       "\t<tr><td>11048</td><td>megga     </td><td>karstark  </td><td>female</td><td>8</td><td>covid</td><td>oncology day hosp</td><td>negative</td><td>patient</td><td>0.8</td><td>0</td><td>45</td><td>0</td><td>commercial</td><td>recurring outpatient</td><td>1.4</td><td>7.0</td></tr>\n",
       "</tbody>\n",
       "</table>\n"
      ],
      "text/latex": [
       "A tibble: 6 × 17\n",
       "\\begin{tabular}{lllllllllllllllll}\n",
       " subject\\_id & fake\\_first\\_name & fake\\_last\\_name & gender & pan\\_day & test\\_id & clinic\\_name & result & demo\\_group & age & drive\\_thru\\_ind & ct\\_result & orderset & payor\\_group & patient\\_class & col\\_rec\\_tat & rec\\_ver\\_tat\\\\\n",
       " <dbl> & <chr> & <chr> & <chr> & <dbl> & <chr> & <chr> & <chr> & <chr> & <dbl> & <dbl> & <dbl> & <dbl> & <chr> & <chr> & <dbl> & <dbl>\\\\\n",
       "\\hline\n",
       "\t  1412 & jhezane    & westerling & female & 4 & covid & inpatient ward a  & negative & patient & 0.0 & 0 & 45 & 0 & government & inpatient            & 1.4 & 5.2\\\\\n",
       "\t   533 & penny      & targaryen  & female & 7 & covid & clinical lab      & negative & patient & 0.0 & 1 & 45 & 0 & commercial & not applicable       & 2.3 & 5.8\\\\\n",
       "\t  9134 & grunt      & rivers     & male   & 7 & covid & clinical lab      & negative & patient & 0.8 & 1 & 45 & 1 & NA         & NA                   & 7.3 & 4.7\\\\\n",
       "\t  8518 & melisandre & swyft      & female & 8 & covid & clinical lab      & negative & patient & 0.8 & 1 & 45 & 1 & NA         & NA                   & 5.8 & 5.0\\\\\n",
       "\t  8967 & rolley     & karstark   & male   & 8 & covid & emergency dept    & negative & patient & 0.8 & 0 & 45 & 1 & government & emergency            & 1.2 & 6.4\\\\\n",
       "\t 11048 & megga      & karstark   & female & 8 & covid & oncology day hosp & negative & patient & 0.8 & 0 & 45 & 0 & commercial & recurring outpatient & 1.4 & 7.0\\\\\n",
       "\\end{tabular}\n"
      ],
      "text/markdown": [
       "\n",
       "A tibble: 6 × 17\n",
       "\n",
       "| subject_id &lt;dbl&gt; | fake_first_name &lt;chr&gt; | fake_last_name &lt;chr&gt; | gender &lt;chr&gt; | pan_day &lt;dbl&gt; | test_id &lt;chr&gt; | clinic_name &lt;chr&gt; | result &lt;chr&gt; | demo_group &lt;chr&gt; | age &lt;dbl&gt; | drive_thru_ind &lt;dbl&gt; | ct_result &lt;dbl&gt; | orderset &lt;dbl&gt; | payor_group &lt;chr&gt; | patient_class &lt;chr&gt; | col_rec_tat &lt;dbl&gt; | rec_ver_tat &lt;dbl&gt; |\n",
       "|---|---|---|---|---|---|---|---|---|---|---|---|---|---|---|---|---|\n",
       "|  1412 | jhezane    | westerling | female | 4 | covid | inpatient ward a  | negative | patient | 0.0 | 0 | 45 | 0 | government | inpatient            | 1.4 | 5.2 |\n",
       "|   533 | penny      | targaryen  | female | 7 | covid | clinical lab      | negative | patient | 0.0 | 1 | 45 | 0 | commercial | not applicable       | 2.3 | 5.8 |\n",
       "|  9134 | grunt      | rivers     | male   | 7 | covid | clinical lab      | negative | patient | 0.8 | 1 | 45 | 1 | NA         | NA                   | 7.3 | 4.7 |\n",
       "|  8518 | melisandre | swyft      | female | 8 | covid | clinical lab      | negative | patient | 0.8 | 1 | 45 | 1 | NA         | NA                   | 5.8 | 5.0 |\n",
       "|  8967 | rolley     | karstark   | male   | 8 | covid | emergency dept    | negative | patient | 0.8 | 0 | 45 | 1 | government | emergency            | 1.2 | 6.4 |\n",
       "| 11048 | megga      | karstark   | female | 8 | covid | oncology day hosp | negative | patient | 0.8 | 0 | 45 | 0 | commercial | recurring outpatient | 1.4 | 7.0 |\n",
       "\n"
      ],
      "text/plain": [
       "  subject_id fake_first_name fake_last_name gender pan_day test_id\n",
       "1  1412      jhezane         westerling     female 4       covid  \n",
       "2   533      penny           targaryen      female 7       covid  \n",
       "3  9134      grunt           rivers         male   7       covid  \n",
       "4  8518      melisandre      swyft          female 8       covid  \n",
       "5  8967      rolley          karstark       male   8       covid  \n",
       "6 11048      megga           karstark       female 8       covid  \n",
       "  clinic_name       result   demo_group age drive_thru_ind ct_result orderset\n",
       "1 inpatient ward a  negative patient    0.0 0              45        0       \n",
       "2 clinical lab      negative patient    0.0 1              45        0       \n",
       "3 clinical lab      negative patient    0.8 1              45        1       \n",
       "4 clinical lab      negative patient    0.8 1              45        1       \n",
       "5 emergency dept    negative patient    0.8 0              45        1       \n",
       "6 oncology day hosp negative patient    0.8 0              45        0       \n",
       "  payor_group patient_class        col_rec_tat rec_ver_tat\n",
       "1 government  inpatient            1.4         5.2        \n",
       "2 commercial  not applicable       2.3         5.8        \n",
       "3 NA          NA                   7.3         4.7        \n",
       "4 NA          NA                   5.8         5.0        \n",
       "5 government  emergency            1.2         6.4        \n",
       "6 commercial  recurring outpatient 1.4         7.0        "
      ]
     },
     "metadata": {},
     "output_type": "display_data"
    },
    {
     "name": "stdout",
     "output_type": "stream",
     "text": [
      "spc_tbl_ [15,524 × 17] (S3: spec_tbl_df/tbl_df/tbl/data.frame)\n",
      " $ subject_id     : num [1:15524] 1412 533 9134 8518 8967 ...\n",
      " $ fake_first_name: chr [1:15524] \"jhezane\" \"penny\" \"grunt\" \"melisandre\" ...\n",
      " $ fake_last_name : chr [1:15524] \"westerling\" \"targaryen\" \"rivers\" \"swyft\" ...\n",
      " $ gender         : chr [1:15524] \"female\" \"female\" \"male\" \"female\" ...\n",
      " $ pan_day        : num [1:15524] 4 7 7 8 8 8 9 9 9 9 ...\n",
      " $ test_id        : chr [1:15524] \"covid\" \"covid\" \"covid\" \"covid\" ...\n",
      " $ clinic_name    : chr [1:15524] \"inpatient ward a\" \"clinical lab\" \"clinical lab\" \"clinical lab\" ...\n",
      " $ result         : chr [1:15524] \"negative\" \"negative\" \"negative\" \"negative\" ...\n",
      " $ demo_group     : chr [1:15524] \"patient\" \"patient\" \"patient\" \"patient\" ...\n",
      " $ age            : num [1:15524] 0 0 0.8 0.8 0.8 0.8 0.8 0 0 0.9 ...\n",
      " $ drive_thru_ind : num [1:15524] 0 1 1 1 0 0 1 0 1 1 ...\n",
      " $ ct_result      : num [1:15524] 45 45 45 45 45 45 45 45 45 45 ...\n",
      " $ orderset       : num [1:15524] 0 0 1 1 1 0 1 1 1 1 ...\n",
      " $ payor_group    : chr [1:15524] \"government\" \"commercial\" NA NA ...\n",
      " $ patient_class  : chr [1:15524] \"inpatient\" \"not applicable\" NA NA ...\n",
      " $ col_rec_tat    : num [1:15524] 1.4 2.3 7.3 5.8 1.2 1.4 2.6 0.7 1 7.1 ...\n",
      " $ rec_ver_tat    : num [1:15524] 5.2 5.8 4.7 5 6.4 7 4.2 6.3 5.6 7 ...\n",
      " - attr(*, \"spec\")=\n",
      "  .. cols(\n",
      "  ..   subject_id = \u001b[32mcol_double()\u001b[39m,\n",
      "  ..   fake_first_name = \u001b[31mcol_character()\u001b[39m,\n",
      "  ..   fake_last_name = \u001b[31mcol_character()\u001b[39m,\n",
      "  ..   gender = \u001b[31mcol_character()\u001b[39m,\n",
      "  ..   pan_day = \u001b[32mcol_double()\u001b[39m,\n",
      "  ..   test_id = \u001b[31mcol_character()\u001b[39m,\n",
      "  ..   clinic_name = \u001b[31mcol_character()\u001b[39m,\n",
      "  ..   result = \u001b[31mcol_character()\u001b[39m,\n",
      "  ..   demo_group = \u001b[31mcol_character()\u001b[39m,\n",
      "  ..   age = \u001b[32mcol_double()\u001b[39m,\n",
      "  ..   drive_thru_ind = \u001b[32mcol_double()\u001b[39m,\n",
      "  ..   ct_result = \u001b[32mcol_double()\u001b[39m,\n",
      "  ..   orderset = \u001b[32mcol_double()\u001b[39m,\n",
      "  ..   payor_group = \u001b[31mcol_character()\u001b[39m,\n",
      "  ..   patient_class = \u001b[31mcol_character()\u001b[39m,\n",
      "  ..   col_rec_tat = \u001b[32mcol_double()\u001b[39m,\n",
      "  ..   rec_ver_tat = \u001b[32mcol_double()\u001b[39m\n",
      "  .. )\n",
      " - attr(*, \"problems\")=<externalptr> \n"
     ]
    },
    {
     "data": {
      "text/html": [
       "<style>\n",
       ".list-inline {list-style: none; margin:0; padding: 0}\n",
       ".list-inline>li {display: inline-block}\n",
       ".list-inline>li:not(:last-child)::after {content: \"\\00b7\"; padding: 0 .5ex}\n",
       "</style>\n",
       "<ol class=list-inline><li>'subject_id'</li><li>'fake_first_name'</li><li>'fake_last_name'</li><li>'gender'</li><li>'pan_day'</li><li>'test_id'</li><li>'clinic_name'</li><li>'result'</li><li>'demo_group'</li><li>'age'</li><li>'drive_thru_ind'</li><li>'ct_result'</li><li>'orderset'</li><li>'payor_group'</li><li>'patient_class'</li><li>'col_rec_tat'</li><li>'rec_ver_tat'</li></ol>\n"
      ],
      "text/latex": [
       "\\begin{enumerate*}\n",
       "\\item 'subject\\_id'\n",
       "\\item 'fake\\_first\\_name'\n",
       "\\item 'fake\\_last\\_name'\n",
       "\\item 'gender'\n",
       "\\item 'pan\\_day'\n",
       "\\item 'test\\_id'\n",
       "\\item 'clinic\\_name'\n",
       "\\item 'result'\n",
       "\\item 'demo\\_group'\n",
       "\\item 'age'\n",
       "\\item 'drive\\_thru\\_ind'\n",
       "\\item 'ct\\_result'\n",
       "\\item 'orderset'\n",
       "\\item 'payor\\_group'\n",
       "\\item 'patient\\_class'\n",
       "\\item 'col\\_rec\\_tat'\n",
       "\\item 'rec\\_ver\\_tat'\n",
       "\\end{enumerate*}\n"
      ],
      "text/markdown": [
       "1. 'subject_id'\n",
       "2. 'fake_first_name'\n",
       "3. 'fake_last_name'\n",
       "4. 'gender'\n",
       "5. 'pan_day'\n",
       "6. 'test_id'\n",
       "7. 'clinic_name'\n",
       "8. 'result'\n",
       "9. 'demo_group'\n",
       "10. 'age'\n",
       "11. 'drive_thru_ind'\n",
       "12. 'ct_result'\n",
       "13. 'orderset'\n",
       "14. 'payor_group'\n",
       "15. 'patient_class'\n",
       "16. 'col_rec_tat'\n",
       "17. 'rec_ver_tat'\n",
       "\n",
       "\n"
      ],
      "text/plain": [
       " [1] \"subject_id\"      \"fake_first_name\" \"fake_last_name\"  \"gender\"         \n",
       " [5] \"pan_day\"         \"test_id\"         \"clinic_name\"     \"result\"         \n",
       " [9] \"demo_group\"      \"age\"             \"drive_thru_ind\"  \"ct_result\"      \n",
       "[13] \"orderset\"        \"payor_group\"     \"patient_class\"   \"col_rec_tat\"    \n",
       "[17] \"rec_ver_tat\"    "
      ]
     },
     "metadata": {},
     "output_type": "display_data"
    },
    {
     "name": "stdout",
     "output_type": "stream",
     "text": [
      "[1] \"La première valeur de la colonne 'subject_id' est 1412.\"\n"
     ]
    }
   ],
   "source": [
    "# Afficher les premières lignes du DataFrame\n",
    "head(df)\n",
    "\n",
    "# Afficher des informations sur le DataFrame\n",
    "str(df)\n",
    "\n",
    "# Afficher les noms des colonnes\n",
    "colnames(df)\n",
    "\n",
    "# Exemple d'affichage d'une valeur formatée\n",
    "nom_colonne <- colnames(df)[1]\n",
    "valeur <- df[1, 1]\n",
    "\n",
    "# Utiliser sprintf pour formater la chaîne de caractères\n",
    "message <- sprintf(\"La première valeur de la colonne '%s' est %s.\", nom_colonne, valeur)\n",
    "\n",
    "# Afficher le message\n",
    "print(message)"
   ]
  },
  {
   "cell_type": "code",
   "execution_count": 5,
   "id": "0dd4176e-aa6d-4df6-b499-d8dc5bef7458",
   "metadata": {},
   "outputs": [
    {
     "data": {
      "image/png": "[encoded data removed]",
      "text/plain": [
       "Plot with title “Age du patient testé”"
      ]
     },
     "metadata": {
      "image/png": {
       "height": 420,
       "width": 420
      }
     },
     "output_type": "display_data"
    }
   ],
   "source": [
    "# Créer un histogramme pour la colonne \"age\"\n",
    "hist(df$age, main=\"Age du patient testé\", xlab=\"Age (années)\", ylab=\"Occurrence\", col=\"blue\", border=\"black\")\n",
    "\n"
   ]
  },
  {
   "cell_type": "code",
   "execution_count": 6,
   "id": "cda0ce80-66a0-4b37-9b5b-0e0916f97a71",
   "metadata": {},
   "outputs": [
    {
     "name": "stdout",
     "output_type": "stream",
     "text": [
      "   Min. 1st Qu.  Median    Mean 3rd Qu.    Max. \n",
      "   0.00    2.00    9.00   14.19   18.00  138.00 \n"
     ]
    }
   ],
   "source": [
    "# Résumé statistique de la colonne age\n",
    "print(summary(df$age))"
   ]
  },
  {
   "cell_type": "code",
   "execution_count": 7,
   "id": "e8acb1ed-8e68-4e0b-ba30-5fac665fb6e8",
   "metadata": {},
   "outputs": [],
   "source": [
    "# Regroupement des tests par jour\n",
    "ntests_per_day_df <- df %>%\n",
    "  group_by(pan_day) %>%\n",
    "  summarise(count = n()) %>%\n",
    "  ungroup()"
   ]
  },
  {
   "cell_type": "code",
   "execution_count": 8,
   "id": "96ad5475-b5b7-4170-8348-3c36807f7894",
   "metadata": {},
   "outputs": [
    {
     "data": {
      "image/png": "[encoded data removed]",
      "text/plain": [
       "plot without title"
      ]
     },
     "metadata": {
      "image/png": {
       "height": 420,
       "width": 420
      }
     },
     "output_type": "display_data"
    }
   ],
   "source": [
    "# Graphique XY\n",
    "p <- ggplot(ntests_per_day_df, aes(x = as.numeric(pan_day), y = count)) +\n",
    "  geom_point() +\n",
    "  labs(title = \"Nombre de par jour depuis le début de la pandémie\",\n",
    "       x = \"Nombre de jours depuis le début de la pandémie (pan_day)\",\n",
    "       y = \"Nombre de tests\") +\n",
    "  scale_x_continuous(breaks = seq(min(ntests_per_day_df$pan_day), max(ntests_per_day_df$pan_day), by = 10)) +\n",
    "  theme_linedraw()\n",
    "print(p)"
   ]
  },
  {
   "cell_type": "code",
   "execution_count": null,
   "id": "876e428b-1af8-4171-a016-791339ea5eca",
   "metadata": {},
   "outputs": [],
   "source": []
  }
 ],
 "metadata": {
  "kernelspec": {
   "display_name": "R",
   "language": "R",
   "name": "ir"
  },
  "language_info": {
   "codemirror_mode": "r",
   "file_extension": ".r",
   "mimetype": "text/x-r-source",
   "name": "R",
   "pygments_lexer": "r",
   "version": "4.1.0"
  }
 },
 "nbformat": 4,
 "nbformat_minor": 5
}
